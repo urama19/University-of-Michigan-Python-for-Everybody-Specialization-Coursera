{
 "cells": [
  {
   "cell_type": "code",
   "execution_count": 5,
   "metadata": {},
   "outputs": [
    {
     "name": "stdout",
     "output_type": "stream",
     "text": [
      "First row in the resulting record set: 4361727269636B3136\n"
     ]
    }
   ],
   "source": [
    "'''\n",
    "Instructions\n",
    "If you don't already have it, install the SQLite Browser from http://sqlitebrowser.org/.\n",
    "\n",
    "Then, create a SQLITE database or use an existing database and create a table in the database called \"Ages\":\n",
    "\n",
    "CREATE TABLE Ages ( \n",
    "  name VARCHAR(128), \n",
    "  age INTEGER\n",
    ")\n",
    "Then make sure the table is empty by deleting any rows that you previously inserted, and insert these rows and only these rows with the following commands:\n",
    "\n",
    "DELETE FROM Ages;\n",
    "INSERT INTO Ages (name, age) VALUES ('Mungo', 32);\n",
    "INSERT INTO Ages (name, age) VALUES ('Usman', 30);\n",
    "INSERT INTO Ages (name, age) VALUES ('Marta', 27);\n",
    "INSERT INTO Ages (name, age) VALUES ('Carrick', 16);\n",
    "INSERT INTO Ages (name, age) VALUES ('Rohma', 29);\n",
    "INSERT INTO Ages (name, age) VALUES ('Kamil', 14);\n",
    "\n",
    "Once the inserts are done, run the following SQL command:\n",
    "SELECT hex(name || age) AS X FROM Ages ORDER BY X\n",
    "\n",
    "Find the first row in the resulting record set and enter the long string that looks like 53656C696E613333.\n",
    "Note: This assignment must be done using SQLite - in particular, the SELECT query above will not work in any other database. So you cannot use MySQL or Oracle \n",
    "for this assignment.\n",
    "'''\n",
    "import sqlite3\n",
    "\n",
    "# Create a database in RAM\n",
    "db = sqlite3.connect(':memory:')\n",
    "\n",
    "# Get a cursor object\n",
    "cursor = db.cursor()\n",
    "cursor.execute('''\n",
    "    CREATE TABLE Ages ( \n",
    "        name VARCHAR(128), \n",
    "        age INTEGER\n",
    "    )''')\n",
    "\n",
    "# Make sure the table is empty by deleting any rows that you previously inserted\n",
    "cursor.execute('''DELETE FROM Ages''')\n",
    "\n",
    "# Insert these following rows with the following commands\n",
    "cursor.execute('''INSERT INTO Ages (name, age) VALUES ('Mungo', 32)''')\n",
    "cursor.execute('''INSERT INTO Ages (name, age) VALUES ('Usman', 30)''')\n",
    "cursor.execute('''INSERT INTO Ages (name, age) VALUES ('Marta', 27)''')\n",
    "cursor.execute('''INSERT INTO Ages (name, age) VALUES ('Carrick', 16)''')\n",
    "cursor.execute('''INSERT INTO Ages (name, age) VALUES ('Rohma', 29)''')\n",
    "cursor.execute('''INSERT INTO Ages (name, age) VALUES ('Kamil', 14)''')\n",
    "\n",
    "#Select user\n",
    "cursor.execute('''SELECT hex(name || age) AS X FROM Ages ORDER BY X''')\n",
    "\n",
    "#retrieve the first row\n",
    "user1 = cursor.fetchone()\n",
    "#Print the first column retrieved(user's name)\n",
    "print(\"First row in the resulting record set: \" + user1[0])\n",
    "\n",
    "#Commit changes into database\n",
    "db.commit()\n",
    "#Close database\n",
    "db.close()\n",
    "\n"
   ]
  }
 ],
 "metadata": {
  "kernelspec": {
   "display_name": "Python 3",
   "language": "python",
   "name": "python3"
  },
  "language_info": {
   "codemirror_mode": {
    "name": "ipython",
    "version": 3
   },
   "file_extension": ".py",
   "mimetype": "text/x-python",
   "name": "python",
   "nbconvert_exporter": "python",
   "pygments_lexer": "ipython3",
   "version": "3.11.5"
  }
 },
 "nbformat": 4,
 "nbformat_minor": 2
}
