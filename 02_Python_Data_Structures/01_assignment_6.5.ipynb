{
 "cells": [
  {
   "cell_type": "code",
   "execution_count": 1,
   "metadata": {},
   "outputs": [
    {
     "name": "stdout",
     "output_type": "stream",
     "text": [
      "0.8475\n"
     ]
    },
    {
     "data": {
      "text/plain": [
       "'\\nOutput:\\n0.8475\\n'"
      ]
     },
     "execution_count": 1,
     "metadata": {},
     "output_type": "execute_result"
    }
   ],
   "source": [
    "'''\n",
    "6.5 Write code using find() and string slicing (see section 6.10) to extract the \n",
    "number at the end of the line below. Convert the extracted value to a floating point \n",
    "number and print it out.\n",
    "'''\n",
    "text = \"X-DSPAM-Confidence:    0.8475\";\n",
    "position = text.find(':')\n",
    "piece = text[position+1:]\n",
    "result = float(piece)\n",
    "print(result)\n",
    "\n",
    "'''\n",
    "Output:\n",
    "0.8475\n",
    "'''"
   ]
  }
 ],
 "metadata": {
  "kernelspec": {
   "display_name": "Python 3",
   "language": "python",
   "name": "python3"
  },
  "language_info": {
   "codemirror_mode": {
    "name": "ipython",
    "version": 3
   },
   "file_extension": ".py",
   "mimetype": "text/x-python",
   "name": "python",
   "nbconvert_exporter": "python",
   "pygments_lexer": "ipython3",
   "version": "3.11.5"
  }
 },
 "nbformat": 4,
 "nbformat_minor": 2
}
