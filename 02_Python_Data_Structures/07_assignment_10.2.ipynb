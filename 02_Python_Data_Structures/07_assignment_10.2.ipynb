{
 "cells": [
  {
   "cell_type": "code",
   "execution_count": 1,
   "metadata": {},
   "outputs": [
    {
     "name": "stdout",
     "output_type": "stream",
     "text": [
      "04 3\n",
      "06 1\n",
      "07 1\n",
      "09 2\n",
      "10 3\n",
      "11 6\n",
      "14 1\n",
      "15 2\n",
      "16 4\n",
      "17 2\n",
      "18 1\n",
      "19 1\n"
     ]
    },
    {
     "data": {
      "text/plain": [
       "'\\nOutput:\\n04 3\\n06 1\\n07 1\\n09 2\\n10 3\\n11 6\\n14 1\\n15 2\\n16 4\\n17 2\\n18 1\\n19 1\\n'"
      ]
     },
     "execution_count": 1,
     "metadata": {},
     "output_type": "execute_result"
    }
   ],
   "source": [
    "'''\n",
    "10.2 Write a program to read through the mbox-short.txt and figure out the \n",
    "distribution by hour of the day for each of the messages. You can pull the hour out \n",
    "from the 'From ' line by finding the time and then splitting the string a second time \n",
    "using a colon.\n",
    "From stephen.marquard@uct.ac.za Sat Jan  5 09:14:16 2008\n",
    "Once you have accumulated the counts for each hour, print out the counts, sorted \n",
    "by hour as shown below.\n",
    "'''\n",
    "name = input(\"Enter file:\")\n",
    "if len(name) < 1:\n",
    "    name = \"mbox-short.txt\"\n",
    "handle = open(name)\n",
    "dictionary = dict()\n",
    "\n",
    "for line in handle:\n",
    "    if line.startswith(\"From \"):\n",
    "        words = line.split()\n",
    "        time = words[5]\n",
    "        hours = time[0:2]\n",
    "        dictionary[hours] = dictionary.get(hours,0) + 1\n",
    "\n",
    "for key, value in sorted(dictionary.items()):\n",
    "    print(key, value)\n",
    "\n",
    "'''\n",
    "Output:\n",
    "04 3\n",
    "06 1\n",
    "07 1\n",
    "09 2\n",
    "10 3\n",
    "11 6\n",
    "14 1\n",
    "15 2\n",
    "16 4\n",
    "17 2\n",
    "18 1\n",
    "19 1\n",
    "'''"
   ]
  }
 ],
 "metadata": {
  "kernelspec": {
   "display_name": "Python 3",
   "language": "python",
   "name": "python3"
  },
  "language_info": {
   "codemirror_mode": {
    "name": "ipython",
    "version": 3
   },
   "file_extension": ".py",
   "mimetype": "text/x-python",
   "name": "python",
   "nbconvert_exporter": "python",
   "pygments_lexer": "ipython3",
   "version": "3.11.5"
  }
 },
 "nbformat": 4,
 "nbformat_minor": 2
}
