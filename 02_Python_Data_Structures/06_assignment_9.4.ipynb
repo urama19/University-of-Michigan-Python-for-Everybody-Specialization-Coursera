{
 "cells": [
  {
   "cell_type": "code",
   "execution_count": 1,
   "metadata": {},
   "outputs": [
    {
     "name": "stdout",
     "output_type": "stream",
     "text": [
      "cwen@iupui.edu 5\n"
     ]
    },
    {
     "data": {
      "text/plain": [
       "'\\nOutput:\\ncwen@iupui.edu 5\\n'"
      ]
     },
     "execution_count": 1,
     "metadata": {},
     "output_type": "execute_result"
    }
   ],
   "source": [
    "'''\n",
    "9.4 Write a program to read through the mbox-short.txt and figure out who has \n",
    "sent the greatest number of mail messages. The program looks for 'From ' lines \n",
    "and takes the second word of those lines as the person who sent the mail. The \n",
    "program creates a Python dictionary that maps the sender's mail address to a \n",
    "count of the number of times they appear in the file. After the dictionary is \n",
    "produced, the program reads through the dictionary using a maximum loop to find \n",
    "the most prolific committer.\n",
    "'''\n",
    "name = input(\"Enter file:\")\n",
    "if len(name) < 1:\n",
    "    name = \"mbox-short.txt\"\n",
    "handle = open(name)\n",
    "lst = list()\n",
    "for line in handle:\n",
    "    if line.startswith(\"From:\"):\n",
    "        line = line.split()\n",
    "        lst.append(line[1])\n",
    "\n",
    "counts = dict()\n",
    "for word in lst:\n",
    "    counts[word] = counts.get(word, 0) + 1\n",
    "\n",
    "bigCount = None\n",
    "bigWord = None\n",
    "for word, count in counts.items():\n",
    "    if bigCount is None or count > bigCount:\n",
    "        bigWord = word\n",
    "        bigCount = count\n",
    "print(bigWord, bigCount)\n",
    "\n",
    "'''\n",
    "Output:\n",
    "cwen@iupui.edu 5\n",
    "'''"
   ]
  }
 ],
 "metadata": {
  "kernelspec": {
   "display_name": "Python 3",
   "language": "python",
   "name": "python3"
  },
  "language_info": {
   "codemirror_mode": {
    "name": "ipython",
    "version": 3
   },
   "file_extension": ".py",
   "mimetype": "text/x-python",
   "name": "python",
   "nbconvert_exporter": "python",
   "pygments_lexer": "ipython3",
   "version": "3.11.5"
  }
 },
 "nbformat": 4,
 "nbformat_minor": 2
}
