{
 "cells": [
  {
   "cell_type": "code",
   "execution_count": 1,
   "metadata": {},
   "outputs": [
    {
     "name": "stdout",
     "output_type": "stream",
     "text": [
      "['Arise', 'But', 'It', 'Juliet', 'Who', 'already', 'and', 'breaks', 'east', 'envious', 'fair', 'grief', 'is', 'kill', 'light', 'moon', 'pale', 'sick', 'soft', 'sun', 'the', 'through', 'what', 'window', 'with', 'yonder']\n"
     ]
    },
    {
     "data": {
      "text/plain": [
       "\"\\nOutput:\\n['Arise', 'But', 'It', 'Juliet', 'Who', 'already', 'and', 'breaks', \\n'east', 'envious', 'fair', 'grief', 'is', 'kill', 'light', 'moon', \\n'pale', 'sick', 'soft', 'sun', 'the', 'through', 'what', 'window', 'with', 'yonder']\\n\""
      ]
     },
     "execution_count": 1,
     "metadata": {},
     "output_type": "execute_result"
    }
   ],
   "source": [
    "'''\n",
    "8.4 Open the file romeo.txt and read it line by line. For each line, split the line into \n",
    "a list of words using the split() method. The program should build a list of words. \n",
    "For each word on each line check to see if the word is already in the list and if not \n",
    "append it to the list. When the program completes, sort and print the resulting \n",
    "words in python sort() order as shown in the desired output.\n",
    "You can download the sample data at http://www.py4e.com/code3/romeo.txt\n",
    "'''\n",
    "fname = input(\"Enter file name: \")\n",
    "fh = open(fname)\n",
    "lst = list()\n",
    "for line in fh:\n",
    "    words = line.rstrip().split()\n",
    "    for word in words:\n",
    "        if word not in lst:\n",
    "            lst.append(word)\n",
    "        else:\n",
    "            continue\n",
    "print(sorted(lst))\n",
    "\n",
    "'''\n",
    "Output:\n",
    "['Arise', 'But', 'It', 'Juliet', 'Who', 'already', 'and', 'breaks', \n",
    "'east', 'envious', 'fair', 'grief', 'is', 'kill', 'light', 'moon', \n",
    "'pale', 'sick', 'soft', 'sun', 'the', 'through', 'what', 'window', 'with', 'yonder']\n",
    "'''"
   ]
  }
 ],
 "metadata": {
  "kernelspec": {
   "display_name": "Python 3",
   "language": "python",
   "name": "python3"
  },
  "language_info": {
   "codemirror_mode": {
    "name": "ipython",
    "version": 3
   },
   "file_extension": ".py",
   "mimetype": "text/x-python",
   "name": "python",
   "nbconvert_exporter": "python",
   "pygments_lexer": "ipython3",
   "version": "3.11.5"
  }
 },
 "nbformat": 4,
 "nbformat_minor": 2
}
