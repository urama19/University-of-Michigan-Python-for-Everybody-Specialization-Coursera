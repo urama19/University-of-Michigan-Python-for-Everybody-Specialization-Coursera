{
 "cells": [
  {
   "cell_type": "code",
   "execution_count": 5,
   "metadata": {},
   "outputs": [
    {
     "name": "stdout",
     "output_type": "stream",
     "text": [
      "354639\n"
     ]
    }
   ],
   "source": [
    "'''\n",
    "Finding Numbers in a Haystack\n",
    "\n",
    "In this assignment you will read through and parse a file with text and numbers. You will extract all the numbers in the file \n",
    "and compute the sum of the numbers.\n",
    "\n",
    "Data Files\n",
    "We provide two files for this assignment. One is a sample file where we give you the sum for your testing and the other is the \n",
    "actual data you need to process for the assignment.\n",
    "\n",
    "Sample data: http://py4e-data.dr-chuck.net/regex_sum_42.txt (There are 90 values with a sum=445833)\n",
    "Actual data: http://py4e-data.dr-chuck.net/regex_sum_1883643.txt (There are 73 values and the sum ends with 639)\n",
    "\n",
    "These links open in a new window. Make sure to save the file into the same folder as you will be writing your Python program. \n",
    "Note: Each student will have a distinct data file for the assignment - so only use your own data file for analysis.\n",
    "\n",
    "Data Format\n",
    "The file contains much of the text from the introduction of the textbook except that random numbers are inserted throughout the text. \n",
    "Here is a sample of the output you might see:\n",
    "Why should you learn to write programs? 7746\n",
    "12 1929 8827\n",
    "Writing programs (or programming) is a very creative \n",
    "7 and rewarding activity.  You can write programs for \n",
    "many reasons, ranging from making your living to solving\n",
    "8837 a difficult data analysis problem to having fun to helping 128\n",
    "someone else solve a problem.  This book assumes that \n",
    "everyone needs to know how to program ...\n",
    "\n",
    "The sum for the sample text above is 27486. The numbers can appear anywhere in the line. There can be any number of numbers in each \n",
    "line (including none).\n",
    "\n",
    "Handling The Data\n",
    "The basic outline of this problem is to read the file, look for integers using the re.findall(), looking for a regular expression of \n",
    "'[0-9]+' and then converting the extracted strings to integers and summing up the integers.\n",
    "'''\n",
    "import re\n",
    "fname = input(\"Enter file name: \")\n",
    "try:\n",
    "    fh = open(fname)\n",
    "except:\n",
    "    fh = open(\"regex_sum_1883643.txt\")\n",
    "    print('Cannot open file',fname ,'please try again')\n",
    "    quit()\n",
    "x = list()\n",
    "for line in fh:\n",
    "     y = re.findall('[0-9]+',line)\n",
    "     x = x+y\n",
    "\n",
    "sum = 0\n",
    "for z in x:\n",
    "    sum = sum + int(z)\n",
    "\n",
    "print(sum)"
   ]
  }
 ],
 "metadata": {
  "kernelspec": {
   "display_name": "Python 3",
   "language": "python",
   "name": "python3"
  },
  "language_info": {
   "codemirror_mode": {
    "name": "ipython",
    "version": 3
   },
   "file_extension": ".py",
   "mimetype": "text/x-python",
   "name": "python",
   "nbconvert_exporter": "python",
   "pygments_lexer": "ipython3",
   "version": "3.11.5"
  }
 },
 "nbformat": 4,
 "nbformat_minor": 2
}
