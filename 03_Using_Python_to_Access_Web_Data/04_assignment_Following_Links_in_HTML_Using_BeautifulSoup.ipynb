{
 "cells": [
  {
   "cell_type": "code",
   "execution_count": 8,
   "metadata": {},
   "outputs": [
    {
     "name": "stdout",
     "output_type": "stream",
     "text": [
      "Retrieving:  http://py4e-data.dr-chuck.net/known_by_Montgomery.html\n",
      "Retrieving:  http://py4e-data.dr-chuck.net/known_by_Mhairade.html\n",
      "Retrieving:  http://py4e-data.dr-chuck.net/known_by_Butchi.html\n",
      "Retrieving:  http://py4e-data.dr-chuck.net/known_by_Anayah.html\n",
      "Anayah\n"
     ]
    }
   ],
   "source": [
    "'''\n",
    "Following Links in Python\n",
    "\n",
    "In this assignment you will write a Python program that expands on http://www.py4e.com/code3/urllinks.py. The program will use urllib to read the HTML \n",
    "from the data files below, extract the href= vaues from the anchor tags, scan for a tag that is in a particular position relative to the first name in \n",
    "the list, follow that link and repeat the process a number of times and report the last name you find.\n",
    "\n",
    "We provide two files for this assignment. One is a sample file where we give you the name for your testing and the other is the actual data you need to \n",
    "process for the assignment\n",
    "\n",
    "Sample problem: Start at http://py4e-data.dr-chuck.net/known_by_Fikret.html\n",
    "Find the link at position 3 (the first name is 1). Follow that link. Repeat this process 4 times. The answer is the last name that you retrieve.\n",
    "Sequence of names: Fikret Montgomery Mhairade Butchi Anayah\n",
    "Last name in sequence: Anayah\n",
    "Actual problem: Start at: http://py4e-data.dr-chuck.net/known_by_Junior.html\n",
    "Find the link at position 18 (the first name is 1). Follow that link. Repeat this process 7 times. The answer is the last name that you retrieve.\n",
    "Hint: The first character of the name of the last page that you will load is: L\n",
    "\n",
    "Strategy\n",
    "The web pages tweak the height between the links and hide the page after a few seconds to make it difficult for you to do the assignment without writing \n",
    "a Python program. But frankly with a little effort and patience you can overcome these attempts to make it a little harder to complete the assignment \n",
    "without writing a Python program. But that is not the point. The point is to write a clever Python program to solve the program.\n",
    "\n",
    "Sample execution\n",
    "Here is a sample execution of a solution:\n",
    "\n",
    "$ python3 solution.py\n",
    "Enter URL: http://py4e-data.dr-chuck.net/known_by_Fikret.html\n",
    "Enter count: 4\n",
    "Enter position: 3\n",
    "Retrieving: http://py4e-data.dr-chuck.net/known_by_Fikret.html\n",
    "Retrieving: http://py4e-data.dr-chuck.net/known_by_Montgomery.html\n",
    "Retrieving: http://py4e-data.dr-chuck.net/known_by_Mhairade.html\n",
    "Retrieving: http://py4e-data.dr-chuck.net/known_by_Butchi.html\n",
    "Retrieving: http://py4e-data.dr-chuck.net/known_by_Anayah.html\n",
    "The answer to the assignment for this execution is \"Anayah\".\n",
    "'''\n",
    "import urllib.request, urllib.parse, urllib.error\n",
    "from bs4 import BeautifulSoup\n",
    "import ssl\n",
    "import re\n",
    "\n",
    "# Ignore SSL certificate errors\n",
    "ctx = ssl.create_default_context()\n",
    "ctx.check_hostname = False\n",
    "ctx.verify_mode = ssl.CERT_NONE\n",
    "\n",
    "url = input(\"Enter URL: \")\n",
    "count = int(input(\"Enter count: \"))\n",
    "position = int(input(\"Enter position: \"))-1\n",
    "\n",
    "# Retrieve all of the anchor tags\n",
    "for i in range(count):\n",
    "    try:\n",
    "        html = urllib.request.urlopen(url, context=ctx).read()\n",
    "    except:\n",
    "        html = urllib.request.urlopen(\"http://py4e-data.dr-chuck.net/known_by_Junior.html\", context=ctx).read()\n",
    "        print(\"Cannot open html link\", url, \"please try again\")\n",
    "        quit()\n",
    "    soup = BeautifulSoup(html, 'html.parser')\n",
    "    tags = soup('a')\n",
    "    name = tags[position].string\n",
    "    url = tags[position]['href']\n",
    "    print(\"Retrieving: \", url)\n",
    "print(name)"
   ]
  }
 ],
 "metadata": {
  "kernelspec": {
   "display_name": "Python 3",
   "language": "python",
   "name": "python3"
  },
  "language_info": {
   "codemirror_mode": {
    "name": "ipython",
    "version": 3
   },
   "file_extension": ".py",
   "mimetype": "text/x-python",
   "name": "python",
   "nbconvert_exporter": "python",
   "pygments_lexer": "ipython3",
   "version": "3.11.5"
  }
 },
 "nbformat": 4,
 "nbformat_minor": 2
}
