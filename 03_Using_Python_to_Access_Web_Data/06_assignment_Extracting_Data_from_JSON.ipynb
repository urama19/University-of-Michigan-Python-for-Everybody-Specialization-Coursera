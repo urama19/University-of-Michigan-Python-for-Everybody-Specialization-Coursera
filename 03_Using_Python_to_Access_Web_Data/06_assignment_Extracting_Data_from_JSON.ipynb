{
 "cells": [
  {
   "cell_type": "code",
   "execution_count": 2,
   "metadata": {},
   "outputs": [
    {
     "name": "stdout",
     "output_type": "stream",
     "text": [
      "Retrieving http://py4e-data.dr-chuck.net/comments_1883648.json \n",
      "Retrieved 1711 characters\n",
      "Count: 50\n",
      "Sum: 2137\n"
     ]
    }
   ],
   "source": [
    "'''\n",
    "Extracting Data from JSON\n",
    "\n",
    "In this assignment you will write a Python program somewhat similar to http://www.py4e.com/code3/json2.py. The program will prompt for a URL, read the \n",
    "JSON data from that URL using urllib and then parse and extract the comment counts from the JSON data, compute the sum of the numbers in the file and \n",
    "enter the sum below:\n",
    "We provide two files for this assignment. One is a sample file where we give you the sum for your testing and the other is the actual data you need to \n",
    "process for the assignment.\n",
    "Sample data: http://py4e-data.dr-chuck.net/comments_42.json (Sum=2553)\n",
    "Actual data: http://py4e-data.dr-chuck.net/comments_1883648.json (Sum ends with 37)\n",
    "\n",
    "You do not need to save these files to your folder since your program will read the data directly from the URL. Note: Each student will have a distinct \n",
    "data url for the assignment - so only use your own data url for analysis.\n",
    "\n",
    "Data Format\n",
    "The data consists of a number of names and comment counts in JSON as follows:\n",
    "{\n",
    "  comments: [\n",
    "    {\n",
    "      name: \"Matthias\"\n",
    "      count: 97\n",
    "    },\n",
    "    {\n",
    "      name: \"Geomer\"\n",
    "      count: 97\n",
    "    }\n",
    "    ...\n",
    "  ]\n",
    "}\n",
    "The closest sample code that shows how to parse JSON and extract a list is json2.py. You might also want to look at geoxml.py to see how to prompt for a \n",
    "URL and retrieve data from a URL.\n",
    "\n",
    "Sample Execution\n",
    "$ python3 solution.py\n",
    "Enter location: http://py4e-data.dr-chuck.net/comments_42.json\n",
    "Retrieving http://py4e-data.dr-chuck.net/comments_42.json\n",
    "Retrieved 2733 characters\n",
    "Count: 50\n",
    "Sum: 2...\n",
    "'''\n",
    "import urllib.request, json\n",
    "\n",
    "address = input('Enter location: ')\n",
    "print('Retrieving', address)\n",
    "with urllib.request.urlopen(address) as url:\n",
    "    data = json.loads(url.read().decode())\n",
    "\n",
    "print('Retrieved', len(str(data)), 'characters')\n",
    "data = data.get(\"comments\")\n",
    "#print(data)\n",
    "num = total = 0\n",
    "for i in range(len(data)):\n",
    "    tmp = data[i]\n",
    "    value = tmp.get(\"count\")\n",
    "    num = num + 1\n",
    "    total = total + int(value)\n",
    "print(\"Count:\",num)\n",
    "print(\"Sum:\",total)"
   ]
  }
 ],
 "metadata": {
  "kernelspec": {
   "display_name": "Python 3",
   "language": "python",
   "name": "python3"
  },
  "language_info": {
   "codemirror_mode": {
    "name": "ipython",
    "version": 3
   },
   "file_extension": ".py",
   "mimetype": "text/x-python",
   "name": "python",
   "nbconvert_exporter": "python",
   "pygments_lexer": "ipython3",
   "version": "3.11.5"
  }
 },
 "nbformat": 4,
 "nbformat_minor": 2
}
