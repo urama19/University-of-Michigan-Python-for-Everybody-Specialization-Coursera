{
 "cells": [
  {
   "cell_type": "code",
   "execution_count": 1,
   "metadata": {},
   "outputs": [
    {
     "name": "stdout",
     "output_type": "stream",
     "text": [
      "Pay: 96.25\n"
     ]
    },
    {
     "data": {
      "text/plain": [
       "'\\nOutput:\\nhours = 35, rate = 2.75\\nPay: 96.25\\n'"
      ]
     },
     "execution_count": 1,
     "metadata": {},
     "output_type": "execute_result"
    }
   ],
   "source": [
    "'''\n",
    "2.3 Write a program to prompt the user for hours and rate per hour using input to \n",
    "compute gross pay. Use 35 hours and a rate of 2.75 per hour to test the program \n",
    "(the pay should be 96.25). You should use input to read a string and float() to \n",
    "convert the string to a number. Do not worry about error checking or bad user data.\n",
    "'''\n",
    "# This first line is provided for you\n",
    "\n",
    "hrs = input(\"Enter Hours:\")\n",
    "rate = input(\"Enter Rate per Hour:\")\n",
    "pay = float(hrs) * float(rate)\n",
    "print(\"Pay:\", pay)\n",
    "\n",
    "'''\n",
    "Output:\n",
    "hours = 35, rate = 2.75\n",
    "Pay: 96.25\n",
    "'''"
   ]
  }
 ],
 "metadata": {
  "kernelspec": {
   "display_name": "Python 3",
   "language": "python",
   "name": "python3"
  },
  "language_info": {
   "codemirror_mode": {
    "name": "ipython",
    "version": 3
   },
   "file_extension": ".py",
   "mimetype": "text/x-python",
   "name": "python",
   "nbconvert_exporter": "python",
   "pygments_lexer": "ipython3",
   "version": "3.11.5"
  }
 },
 "nbformat": 4,
 "nbformat_minor": 2
}
