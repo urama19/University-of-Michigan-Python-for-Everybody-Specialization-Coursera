{
 "cells": [
  {
   "cell_type": "code",
   "execution_count": 1,
   "metadata": {},
   "outputs": [
    {
     "name": "stdout",
     "output_type": "stream",
     "text": [
      "Invalid input\n",
      "Maximum is 10\n",
      "Minimum is 2\n"
     ]
    },
    {
     "data": {
      "text/plain": [
       "'\\nEnter 7, 2, bob, 10 and 4\\nOutput:\\nInvalid input\\nMaximum is 10\\nMinimum is 2\\n'"
      ]
     },
     "execution_count": 1,
     "metadata": {},
     "output_type": "execute_result"
    }
   ],
   "source": [
    "'''\n",
    "5.2 Write a program that repeatedly prompts a user for integer numbers until the \n",
    "user enters 'done'. Once 'done' is entered, print out the largest and smallest of the \n",
    "numbers. If the user enters anything other than a valid number catch it with a \n",
    "try/except and put out an appropriate message and ignore the number. Enter 7, 2, \n",
    "bob, 10, and 4 and match the output below.\n",
    "'''\n",
    "largest = None\n",
    "smallest = None\n",
    "while True:\n",
    "    num = input(\"Enter a number: \")\n",
    "    if num == \"done\":\n",
    "        break\n",
    "    try:\n",
    "        num = int(num)\n",
    "    except:\n",
    "        print(\"Invalid input\")\n",
    "        continue \n",
    "   \n",
    "    if largest==None or num > largest:\n",
    "        largest = num\n",
    "    elif smallest==None or smallest > num:\n",
    "        smallest = num\n",
    "\n",
    "print(\"Maximum is\", largest)\n",
    "print(\"Minimum is\", smallest)\n",
    "\n",
    "'''\n",
    "Enter 7, 2, bob, 10 and 4\n",
    "Output:\n",
    "Invalid input\n",
    "Maximum is 10\n",
    "Minimum is 2\n",
    "'''"
   ]
  }
 ],
 "metadata": {
  "kernelspec": {
   "display_name": "Python 3",
   "language": "python",
   "name": "python3"
  },
  "language_info": {
   "codemirror_mode": {
    "name": "ipython",
    "version": 3
   },
   "file_extension": ".py",
   "mimetype": "text/x-python",
   "name": "python",
   "nbconvert_exporter": "python",
   "pygments_lexer": "ipython3",
   "version": "3.11.5"
  }
 },
 "nbformat": 4,
 "nbformat_minor": 2
}
