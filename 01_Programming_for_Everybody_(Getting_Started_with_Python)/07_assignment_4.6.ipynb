{
 "cells": [
  {
   "cell_type": "code",
   "execution_count": 2,
   "metadata": {},
   "outputs": [
    {
     "name": "stdout",
     "output_type": "stream",
     "text": [
      "Pay 498.75\n"
     ]
    },
    {
     "data": {
      "text/plain": [
       "'\\nOutput:\\nhours = 45, rate = 10.50\\nPay 498.75\\n'"
      ]
     },
     "execution_count": 2,
     "metadata": {},
     "output_type": "execute_result"
    }
   ],
   "source": [
    "'''\n",
    "4.6 Write a program to prompt the user for hours and rate per hour using input to \n",
    "compute gross pay. Pay should be the normal rate for hours up to 40 and time-and-a-half \n",
    "for the hourly rate for all hours worked above 40 hours. Put the logic to do the \n",
    "computation of pay in a function called computepay() and use the function to do the \n",
    "computation. The function should return a value. Use 45 hours and a rate of 10.50 per hour \n",
    "to test the program (the pay should be 498.75). You should use input to read a string \n",
    "and float() to convert the string to a number. Do not worry about error checking the user \n",
    "input unless you want to - you can assume the user types numbers properly. Do not name \n",
    "your variable sum or use the sum() function.\n",
    "'''\n",
    "def computepay(h, r):\n",
    "    if h <= 40:\n",
    "        pay = h * r\n",
    "    elif h > 40:\n",
    "        pay = (40 * r) + (h - 40) * (r * 1.5)\n",
    "    return pay\n",
    "\n",
    "hours = input(\"Enter Hours:\")\n",
    "h = float(hours)\n",
    "rate = input(\"Enter Rate per Hours:\")\n",
    "r = float(rate)\n",
    "p = computepay(h, r)\n",
    "print(\"Pay\", p)\n",
    "\n",
    "'''\n",
    "Output:\n",
    "hours = 45, rate = 10.50\n",
    "Pay 498.75\n",
    "'''"
   ]
  }
 ],
 "metadata": {
  "kernelspec": {
   "display_name": "Python 3",
   "language": "python",
   "name": "python3"
  },
  "language_info": {
   "codemirror_mode": {
    "name": "ipython",
    "version": 3
   },
   "file_extension": ".py",
   "mimetype": "text/x-python",
   "name": "python",
   "nbconvert_exporter": "python",
   "pygments_lexer": "ipython3",
   "version": "3.11.5"
  }
 },
 "nbformat": 4,
 "nbformat_minor": 2
}
