{
 "cells": [
  {
   "cell_type": "code",
   "execution_count": 1,
   "metadata": {},
   "outputs": [
    {
     "name": "stdout",
     "output_type": "stream",
     "text": [
      "Hello Sarah\n"
     ]
    },
    {
     "data": {
      "text/plain": [
       "'\\nOutput:\\nHello Sarah\\n'"
      ]
     },
     "execution_count": 1,
     "metadata": {},
     "output_type": "execute_result"
    }
   ],
   "source": [
    "'''\n",
    "2.2 Write a program that uses input to prompt a user for their name and then \n",
    "welcomes them. Note that input will pop up a dialog box. Enter Sarah in the \n",
    "pop-up box when you are prompted so your output will match the desired output.\n",
    "'''\n",
    "# The code below almost works\n",
    "\n",
    "name = input(\"Enter your name\")\n",
    "print(\"Hello \" + name)\n",
    "\n",
    "'''\n",
    "Output:\n",
    "Hello Sarah\n",
    "'''"
   ]
  }
 ],
 "metadata": {
  "kernelspec": {
   "display_name": "Python 3",
   "language": "python",
   "name": "python3"
  },
  "language_info": {
   "codemirror_mode": {
    "name": "ipython",
    "version": 3
   },
   "file_extension": ".py",
   "mimetype": "text/x-python",
   "name": "python",
   "nbconvert_exporter": "python",
   "pygments_lexer": "ipython3",
   "version": "3.11.5"
  }
 },
 "nbformat": 4,
 "nbformat_minor": 2
}
