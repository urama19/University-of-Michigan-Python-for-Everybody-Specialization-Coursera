{
 "cells": [
  {
   "cell_type": "code",
   "execution_count": 1,
   "metadata": {},
   "outputs": [
    {
     "name": "stdout",
     "output_type": "stream",
     "text": [
      "Grade: B\n"
     ]
    },
    {
     "data": {
      "text/plain": [
       "'\\nOutput:\\nscore = 0.85\\nGrade: B\\n'"
      ]
     },
     "execution_count": 1,
     "metadata": {},
     "output_type": "execute_result"
    }
   ],
   "source": [
    "'''\n",
    "3.3 Write a program to prompt for a score between 0.0 and 1.0. If the score is out \n",
    "of range, print an error. If the score is between 0.0 and 1.0, print a grade using the \n",
    "following table:\n",
    "Score Grade\n",
    ">= 0.9 A\n",
    ">= 0.8 B\n",
    ">= 0.7 C\n",
    ">= 0.6 D\n",
    "< 0.6 F\n",
    "If the user enters a value out of range, print a suitable error message and exit.\n",
    "For the test, enter a score of 0.85.\n",
    "'''\n",
    "score = input(\"Enter Score: \")\n",
    "floatScore = float(score)\n",
    "grade = \"\"\n",
    "if floatScore >= 0.9:\n",
    "    grade = \"A\"\n",
    "elif floatScore >= 0.8:\n",
    "    grade = \"B\"\n",
    "elif floatScore >= 0.7:\n",
    "    grade = \"C\"\n",
    "elif floatScore >= 0.6:\n",
    "    grade = \"D\"\n",
    "elif floatScore < 0.6 and floatScore >= 0.0:\n",
    "    grade = \"F\"\n",
    "elif floatScore < 0.0 or floatScore > 1.0:\n",
    "    grade = \"Error: Value entered is out of range! (Range: 0.0 - 1.0)\"\n",
    "print(\"Grade:\", grade)\n",
    "\n",
    "'''\n",
    "Output:\n",
    "score = 0.85\n",
    "Grade: B\n",
    "'''"
   ]
  }
 ],
 "metadata": {
  "kernelspec": {
   "display_name": "Python 3",
   "language": "python",
   "name": "python3"
  },
  "language_info": {
   "codemirror_mode": {
    "name": "ipython",
    "version": 3
   },
   "file_extension": ".py",
   "mimetype": "text/x-python",
   "name": "python",
   "nbconvert_exporter": "python",
   "pygments_lexer": "ipython3",
   "version": "3.11.5"
  }
 },
 "nbformat": 4,
 "nbformat_minor": 2
}
