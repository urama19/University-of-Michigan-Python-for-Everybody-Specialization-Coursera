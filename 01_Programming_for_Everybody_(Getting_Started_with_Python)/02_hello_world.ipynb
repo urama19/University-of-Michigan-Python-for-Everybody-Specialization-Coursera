{
 "cells": [
  {
   "cell_type": "code",
   "execution_count": 1,
   "metadata": {},
   "outputs": [
    {
     "name": "stdout",
     "output_type": "stream",
     "text": [
      "hello world\n"
     ]
    },
    {
     "data": {
      "text/plain": [
       "'\\nOutput:\\nhello world\\n'"
      ]
     },
     "execution_count": 1,
     "metadata": {},
     "output_type": "execute_result"
    }
   ],
   "source": [
    "'''\n",
    "Write a program that uses a print function to say 'hello world' as shown in 'Desired Output'.\n",
    "'''\n",
    "# the code below almost works\n",
    "print(\"hello world\")\n",
    "\n",
    "'''\n",
    "Output:\n",
    "hello world\n",
    "'''"
   ]
  }
 ],
 "metadata": {
  "kernelspec": {
   "display_name": "Python 3",
   "language": "python",
   "name": "python3"
  },
  "language_info": {
   "codemirror_mode": {
    "name": "ipython",
    "version": 3
   },
   "file_extension": ".py",
   "mimetype": "text/x-python",
   "name": "python",
   "nbconvert_exporter": "python",
   "pygments_lexer": "ipython3",
   "version": "3.11.5"
  }
 },
 "nbformat": 4,
 "nbformat_minor": 2
}
