{
 "cells": [
  {
   "cell_type": "code",
   "execution_count": 1,
   "metadata": {},
   "outputs": [
    {
     "name": "stdout",
     "output_type": "stream",
     "text": [
      "Pay:  498.75\n"
     ]
    },
    {
     "data": {
      "text/plain": [
       "'\\nOutput:\\nhours = 45, rate = 10.50\\nPay: 498.75\\n'"
      ]
     },
     "execution_count": 1,
     "metadata": {},
     "output_type": "execute_result"
    }
   ],
   "source": [
    "'''\n",
    "3.1 Write a program to prompt the user for hours and rate per hour using input to \n",
    "compute gross pay. Pay the hourly rate for the hours up to 40 and 1.5 times the \n",
    "hourly rate for all hours worked above 40 hours. Use 45 hours and a rate of 10.50 \n",
    "per hour to test the program (the pay should be 498.75). You should use input to \n",
    "read a string and float() to convert the string to a number. Do not worry about error \n",
    "checking the user input - assume the user types numbers properly.\n",
    "'''\n",
    "hours = input(\"Enter Hours:\")\n",
    "h = float(hours)\n",
    "rate = input(\"Enter Rate per Hours:\")\n",
    "r = float(rate)\n",
    "if h <= 40:\n",
    "    pay = h * r\n",
    "elif h > 40:\n",
    "    pay = (40 * r) + (h - 40) * (r * 1.5)\n",
    "print(\"Pay:\", pay)\n",
    "\n",
    "'''\n",
    "Output:\n",
    "hours = 45, rate = 10.50\n",
    "Pay: 498.75\n",
    "'''"
   ]
  }
 ],
 "metadata": {
  "kernelspec": {
   "display_name": "Python 3",
   "language": "python",
   "name": "python3"
  },
  "language_info": {
   "codemirror_mode": {
    "name": "ipython",
    "version": 3
   },
   "file_extension": ".py",
   "mimetype": "text/x-python",
   "name": "python",
   "nbconvert_exporter": "python",
   "pygments_lexer": "ipython3",
   "version": "3.11.5"
  }
 },
 "nbformat": 4,
 "nbformat_minor": 2
}
