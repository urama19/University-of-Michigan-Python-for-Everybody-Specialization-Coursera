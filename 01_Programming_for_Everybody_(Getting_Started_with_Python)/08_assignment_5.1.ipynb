{
 "cells": [
  {
   "cell_type": "code",
   "execution_count": 2,
   "metadata": {},
   "outputs": [
    {
     "name": "stdout",
     "output_type": "stream",
     "text": [
      "Invalid Input\n",
      "Total: 16.0 Count: 3 Average: 5.333333333333333\n"
     ]
    },
    {
     "data": {
      "text/plain": [
       "'\\nOutput:\\nEnter a number: 4\\nEnter a number: 5\\nEnter a number: bad data\\nInvalid input\\nEnter a number: 7\\nEnter a number: done\\nTotal: 16, Count: 3, Average: 5.333333333333333\\n'"
      ]
     },
     "execution_count": 2,
     "metadata": {},
     "output_type": "execute_result"
    }
   ],
   "source": [
    "'''\n",
    "5.1 Write a program which repeatedly reads numbers until user enters \"done\". Once \"done\" is entered, print out the total, count, and average\n",
    "of the numbers. If user enters anything other than a number, detect their mistake using try and except and print an error message and skip to the\n",
    "next number.\n",
    "'''\n",
    "num = 0\n",
    "total = 0.0\n",
    "while True:\n",
    "    stringValue = input(\"Enter a number: \")\n",
    "    if stringValue == \"done\":\n",
    "        break\n",
    "    try:\n",
    "        floatValue = float(stringValue)\n",
    "    except:\n",
    "        print(\"Invalid Input\")\n",
    "        continue\n",
    "    # print(floatValue)\n",
    "    num = num + 1\n",
    "    total = total + floatValue\n",
    "\n",
    "# print(\"ALL DONE\")\n",
    "print(\"Total:\", total, \"Count:\", num, \"Average:\", total/num)\n",
    "\n",
    "'''\n",
    "Output:\n",
    "Enter a number: 4\n",
    "Enter a number: 5\n",
    "Enter a number: bad data\n",
    "Invalid input\n",
    "Enter a number: 7\n",
    "Enter a number: done\n",
    "Total: 16, Count: 3, Average: 5.333333333333333\n",
    "'''"
   ]
  }
 ],
 "metadata": {
  "kernelspec": {
   "display_name": "Python 3",
   "language": "python",
   "name": "python3"
  },
  "language_info": {
   "codemirror_mode": {
    "name": "ipython",
    "version": 3
   },
   "file_extension": ".py",
   "mimetype": "text/x-python",
   "name": "python",
   "nbconvert_exporter": "python",
   "pygments_lexer": "ipython3",
   "version": "3.11.5"
  }
 },
 "nbformat": 4,
 "nbformat_minor": 2
}
